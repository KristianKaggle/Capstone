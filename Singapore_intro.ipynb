{
 "cells": [
  {
   "cell_type": "markdown",
   "metadata": {},
   "source": [
    "# Comparing the Neighborhood Profile of Singapore (Week#1)\n",
    "\n",
    "### Problem Statement and Background\n",
    "Singapore is one of the major capital cities in Asia.\n",
    "\n",
    "We will explore Singapore and will attempt to segment and cluster its neighborhoods.\n",
    "\n",
    "From the clustered data, we may attempt to compare Singapore with one other city (such as Toronto) and look at how similar or dissimilar they are with another metropolitan city.\n",
    "\n",
    "From cluster data - we will also look at whether the information can help someone to determine where to establish their business. We may look at 1 or 2 businesses as a sample.\n",
    "\n",
    "### Data Description\n",
    "#### Singapore Big Data\n",
    "Singapore gov has recently introduced 'data.gov.sg' - we will use the available neighborhood information from this data website to establish our neighborhood. \n",
    "\n",
    "Data.gov.sg was first launched in 2011 as the government's one-stop portal to its publicly-available datasets from 70 public agencies. It provides one-stop access to the government’s publicly-available data.\n",
    "\n",
    "### 4Square API\n",
    "4Square API will help \n",
    "Linkage to 4Square API will then help us to establish the venue lists for each neighborhood.\n",
    "\n",
    "1. Introduction \n",
    " \n",
    "1.1 Background National Basketball Association (NBA) is the best basketball league in the world with millions              of fans worldwide. How players on a team perform is the most important factorthatdetermines                which team wins the championship. Players’ pay are largely based on their past performances.              However, player performance change from season to season. Each year there are a number of               players who improve dramatically over last year. Those players bring a lot of value, both               competitively and economically, to the teams they belong to. Their importance is widely             recognized by the NBA in that the player who improved the most over last season is awarded                 Most Improved Player (MIP) Award. Therefore, it is advantageous for teams to accurately             predict whether and how much a player will improve in the next season. For example, this                information can be used to target players to acquire in trades or signings. \n",
    " \n",
    "1.2 Problem Data that might contribute to determining player improvement might include his performance            last season, his age,hisdraftstatus,hisposition,andmetricsthatdescribewhatkindofplayerhe                  is. This project aims to predict whether and how much a player will improve the next season                 based on these data. \n",
    " \n",
    "1.3 Interest Obviously, NBA teams would be very interested in accurate prediction of player improvement,             for competitive advantage and business values. Others who are interested in NBA such as fans               and fantasy basketball players may also be interested. \n",
    " "
   ]
  },
  {
   "cell_type": "code",
   "execution_count": null,
   "metadata": {},
   "outputs": [],
   "source": []
  }
 ],
 "metadata": {
  "kernelspec": {
   "display_name": "Python 3",
   "language": "python",
   "name": "python3"
  },
  "language_info": {
   "codemirror_mode": {
    "name": "ipython",
    "version": 3
   },
   "file_extension": ".py",
   "mimetype": "text/x-python",
   "name": "python",
   "nbconvert_exporter": "python",
   "pygments_lexer": "ipython3",
   "version": "3.7.0"
  }
 },
 "nbformat": 4,
 "nbformat_minor": 2
}
